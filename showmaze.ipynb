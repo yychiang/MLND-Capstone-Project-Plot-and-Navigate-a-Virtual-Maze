{
 "cells": [
  {
   "cell_type": "code",
   "execution_count": 1,
   "metadata": {
    "collapsed": false
   },
   "outputs": [
    {
     "ename": "SyntaxError",
     "evalue": "invalid syntax (<ipython-input-1-843104b63cd7>, line 52)",
     "output_type": "error",
     "traceback": [
      "\u001b[0;36m  File \u001b[0;32m\"<ipython-input-1-843104b63cd7>\"\u001b[0;36m, line \u001b[0;32m52\u001b[0m\n\u001b[0;31m    print 'Inconsistent vertical wall betweeen {} and {}'.format(cell, cell2)\u001b[0m\n\u001b[0m                                                        ^\u001b[0m\n\u001b[0;31mSyntaxError\u001b[0m\u001b[0;31m:\u001b[0m invalid syntax\n"
     ]
    }
   ],
   "source": [
    "import numpy as np\n",
    "\n",
    "class Maze(object):\n",
    "    def __init__(self, filename):\n",
    "        '''\n",
    "        Maze objects have two main attributes:\n",
    "        - dim: mazes should be square, with sides of even length. (integer)\n",
    "        - walls: passages are coded as a 4-bit number, with a bit value taking\n",
    "            0 if there is a wall and 1 if there is no wall. The 1s register\n",
    "            corresponds with a square's top edge, 2s register the right edge,\n",
    "            4s register the bottom edge, and 8s register the left edge. (numpy\n",
    "            array)\n",
    "\n",
    "        The initialization function also performs some consistency checks for\n",
    "        wall positioning.\n",
    "        '''\n",
    "        with open(filename, 'rb') as f_in:\n",
    "\n",
    "            # First line should be an integer with the maze dimensions\n",
    "            self.dim = int(f_in.next())\n",
    "\n",
    "            # Subsequent lines describe the permissability of walls\n",
    "            walls = []\n",
    "            for line in f_in:\n",
    "                walls.append(map(int,line.split(',')))\n",
    "            self.walls = np.array(walls)\n",
    "\n",
    "        # Perform validation on maze\n",
    "        # Maze dimensions\n",
    "        if self.dim % 2:\n",
    "            raise Exception('Maze dimensions must be even in length!')\n",
    "        if self.walls.shape != (self.dim, self.dim):\n",
    "            raise Exception('Maze shape does not match dimension attribute!')\n",
    "\n",
    "        # Wall permeability\n",
    "        wall_errors = []\n",
    "        # vertical walls\n",
    "        for x in range(self.dim-1):\n",
    "            for y in range(self.dim):\n",
    "                if (self.walls[x,y] & 2 != 0) != (self.walls[x+1,y] & 8 != 0):\n",
    "                    wall_errors.append([(x,y), 'v'])\n",
    "        # horizontal walls\n",
    "        for y in range(self.dim-1):\n",
    "            for x in range(self.dim):\n",
    "                if (self.walls[x,y] & 1 != 0) != (self.walls[x,y+1] & 4 != 0):\n",
    "                    wall_errors.append([(x,y), 'h'])\n",
    "\n",
    "        if wall_errors:\n",
    "            for cell, wall_type in wall_errors:\n",
    "                if wall_type == 'v':\n",
    "                    cell2 = (cell[0]+1, cell[1])\n",
    "                    print 'Inconsistent vertical wall betweeen {} and {}'.format(cell, cell2)\n",
    "                else:\n",
    "                    cell2 = (cell[0], cell[1]+1)\n",
    "                    print 'Inconsistent horizontal wall betweeen {} and {}'.format(cell, cell2)\n",
    "            raise Exception('Consistency errors found in wall specifications!')\n",
    "\n",
    "\n",
    "    def is_permissible(self, cell, direction):\n",
    "        \"\"\"\n",
    "        Returns a boolean designating whether or not a cell is passable in the\n",
    "        given direction. Cell is input as a list. Directions may be\n",
    "        input as single letter 'u', 'r', 'd', 'l', or complete words 'up', \n",
    "        'right', 'down', 'left'.\n",
    "        \"\"\"\n",
    "        dir_int = {'u': 1, 'r': 2, 'd': 4, 'l': 8,\n",
    "                   'up': 1, 'right': 2, 'down': 4, 'left': 8}\n",
    "        try:\n",
    "            return (self.walls[tuple(cell)] & dir_int[direction] != 0)\n",
    "        except:\n",
    "            print 'Invalid direction provided!'\n",
    "\n",
    "\n",
    "    def dist_to_wall(self, cell, direction):\n",
    "        \"\"\"\n",
    "        Returns a number designating the number of open cells to the nearest\n",
    "        wall in the indicated direction. Cell is input as a list. Directions\n",
    "        may be input as a single letter 'u', 'r', 'd', 'l', or complete words\n",
    "        'up', 'right', 'down', 'left'.\n",
    "        \"\"\"\n",
    "        dir_move = {'u': [0, 1], 'r': [1, 0], 'd': [0, -1], 'l': [-1, 0],\n",
    "                    'up': [0, 1], 'right': [1, 0], 'down': [0, -1], 'left': [-1, 0]}\n",
    "\n",
    "        sensing = True\n",
    "        distance = 0\n",
    "        curr_cell = list(cell) # make copy to preserve original\n",
    "        while sensing:\n",
    "            if self.is_permissible(curr_cell, direction):\n",
    "                distance += 1\n",
    "                curr_cell[0] += dir_move[direction][0]\n",
    "                curr_cell[1] += dir_move[direction][1]\n",
    "            else:\n",
    "                sensing = False\n",
    "        return distance"
   ]
  },
  {
   "cell_type": "code",
   "execution_count": 2,
   "metadata": {
    "collapsed": false
   },
   "outputs": [],
   "source": [
    "testmaze = Maze( 'test_maze_01.txt' )\n",
    "import turtle\n",
    "import sys\n",
    "# Intialize the window and drawing turtle.\n",
    "window = turtle.Screen()\n",
    "wally = turtle.Turtle()\n",
    "wally.speed(0)\n",
    "wally.hideturtle()\n",
    "wally.penup()\n",
    "# maze centered on (0,0), squares are 20 units in length.\n",
    "sq_size = 40\n",
    "origin = testmaze.dim * sq_size / -2\n",
    "# iterate through squares one by one to decide where to draw walls"
   ]
  },
  {
   "cell_type": "code",
   "execution_count": 3,
   "metadata": {
    "collapsed": true
   },
   "outputs": [],
   "source": [
    "def plotArrow(x,y,direction):\n",
    "    l=(1./4)\n",
    "    if direction=='up':\n",
    "        wally.goto(origin + sq_size * (x+(3./8)), origin + sq_size * (y+(1./4)))\n",
    "        wally.setheading(60)\n",
    "        wally.pendown()\n",
    "        wally.forward(l*sq_size)\n",
    "        wally.penup()\n",
    "        wally.setheading(-60)\n",
    "        wally.pendown()\n",
    "        wally.forward(l*sq_size)\n",
    "        wally.penup()\n",
    "    elif direction=='down':\n",
    "        wally.goto(origin + sq_size * (x+(3./8)), origin + sq_size * (y+(3./4)))\n",
    "        wally.setheading(-60)\n",
    "        wally.pendown()\n",
    "        wally.forward(l*sq_size)\n",
    "        wally.penup()\n",
    "        wally.setheading(60)\n",
    "        wally.pendown()\n",
    "        wally.forward(l*sq_size)\n",
    "        wally.penup()\n",
    "    elif direction=='right':\n",
    "        wally.goto(origin + sq_size * (x+(1./4)), origin + sq_size * (y+(3./8)))\n",
    "        wally.setheading(30)\n",
    "        wally.pendown()\n",
    "        wally.forward(l*sq_size)\n",
    "        wally.penup()\n",
    "        wally.setheading(150)\n",
    "        wally.pendown()\n",
    "        wally.forward(l*sq_size)\n",
    "        wally.penup()\n",
    "    elif direction=='left':\n",
    "        wally.goto(origin + sq_size * (x+(3./4)), origin + sq_size * (y+(3./8)))\n",
    "        wally.setheading(150)\n",
    "        wally.pendown()\n",
    "        wally.forward(l*sq_size)\n",
    "        wally.penup()\n",
    "        wally.setheading(30)\n",
    "        wally.pendown()\n",
    "        wally.forward(l*sq_size)\n",
    "        wally.penup()"
   ]
  },
  {
   "cell_type": "code",
   "execution_count": 4,
   "metadata": {
    "collapsed": true
   },
   "outputs": [],
   "source": [
    "path=[[(0, 0), 'up'],\n",
    "[(0, 2), 'right'],\n",
    "[(1, 2), 'down'],\n",
    "[(1, 0), 'right'],\n",
    "[(4, 0), 'up'],\n",
    "[(4, 2), 'right'],\n",
    "[(5, 2), 'down'],\n",
    "[(5, 0), 'right'],\n",
    "[(6, 0), 'up'],\n",
    "[(6, 1), 'right'],\n",
    "[(7, 1), 'down'],\n",
    "[(7, 0), 'right'],\n",
    "[(10, 0), 'right'],\n",
    "[(11, 0), 'up'],\n",
    "[(11, 3), 'left'],\n",
    "[(8, 3), 'up'],\n",
    "[(8, 4), 'right'],\n",
    "[(9, 4), 'up'],\n",
    "[(9, 6), 'left'],\n",
    "[(8, 6), 'down'],\n",
    "[(8, 5), 'left'],\n",
    "[(7, 5), 'up'],\n",
    "[(7, 6), 'left']]"
   ]
  },
  {
   "cell_type": "code",
   "execution_count": null,
   "metadata": {
    "collapsed": false
   },
   "outputs": [],
   "source": [
    "for i in range(len(path)):\n",
    "    plotArrow(path[i][0][0],path[i][0][1],path[i][1])"
   ]
  },
  {
   "cell_type": "code",
   "execution_count": null,
   "metadata": {
    "collapsed": false
   },
   "outputs": [],
   "source": [
    "for x in range(testmaze.dim):\n",
    "    for y in range(testmaze.dim):\n",
    "        if not testmaze.is_permissible([x,y], 'up'):\n",
    "            wally.goto(origin + sq_size * x, origin + sq_size * (y+1))\n",
    "            wally.setheading(0)\n",
    "            wally.pendown()\n",
    "            wally.forward(sq_size)\n",
    "            wally.penup()\n",
    "\n",
    "        if not testmaze.is_permissible([x,y], 'right'):\n",
    "            wally.goto(origin + sq_size * (x+1), origin + sq_size * y)\n",
    "            wally.setheading(90)\n",
    "            wally.pendown()\n",
    "            wally.forward(sq_size)\n",
    "            wally.penup()\n",
    "\n",
    "        # only check bottom wall if on lowest row\n",
    "        if y == 0 and not testmaze.is_permissible([x,y], 'down'):\n",
    "            wally.goto(origin + sq_size * x, origin)\n",
    "            wally.setheading(0)\n",
    "            wally.pendown()\n",
    "            wally.forward(sq_size)\n",
    "            wally.penup()\n",
    "\n",
    "        # only check left wall if on leftmost column\n",
    "        if x == 0 and not testmaze.is_permissible([x,y], 'left'):\n",
    "            wally.goto(origin, origin + sq_size * y)\n",
    "            wally.setheading(90)\n",
    "            wally.pendown()\n",
    "            wally.forward(sq_size)\n",
    "            wally.penup()\n",
    "window.exitonclick()"
   ]
  },
  {
   "cell_type": "code",
   "execution_count": null,
   "metadata": {
    "collapsed": false
   },
   "outputs": [],
   "source": [
    "window.exitonclick()"
   ]
  },
  {
   "cell_type": "code",
   "execution_count": null,
   "metadata": {
    "collapsed": true
   },
   "outputs": [],
   "source": []
  }
 ],
 "metadata": {
  "anaconda-cloud": {},
  "kernelspec": {
   "display_name": "Python [default]",
   "language": "python",
   "name": "python3"
  },
  "language_info": {
   "codemirror_mode": {
    "name": "ipython",
    "version": 3
   },
   "file_extension": ".py",
   "mimetype": "text/x-python",
   "name": "python",
   "nbconvert_exporter": "python",
   "pygments_lexer": "ipython3",
   "version": "3.5.2"
  }
 },
 "nbformat": 4,
 "nbformat_minor": 1
}
