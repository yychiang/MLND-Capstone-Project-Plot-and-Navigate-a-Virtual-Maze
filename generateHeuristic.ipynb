{
 "cells": [
  {
   "cell_type": "code",
   "execution_count": 2,
   "metadata": {
    "collapsed": true
   },
   "outputs": [],
   "source": [
    "import numpy as np\n",
    "\n",
    "class Maze(object):\n",
    "    def __init__(self, filename):\n",
    "        '''\n",
    "        Maze objects have two main attributes:\n",
    "        - dim: mazes should be square, with sides of even length. (integer)\n",
    "        - walls: passages are coded as a 4-bit number, with a bit value taking\n",
    "            0 if there is a wall and 1 if there is no wall. The 1s register\n",
    "            corresponds with a square's top edge, 2s register the right edge,\n",
    "            4s register the bottom edge, and 8s register the left edge. (numpy\n",
    "            array)\n",
    "\n",
    "        The initialization function also performs some consistency checks for\n",
    "        wall positioning.\n",
    "        '''\n",
    "        with open(filename, 'rb') as f_in:\n",
    "\n",
    "            # First line should be an integer with the maze dimensions\n",
    "            self.dim = int(f_in.next())\n",
    "\n",
    "            # Subsequent lines describe the permissability of walls\n",
    "            walls = []\n",
    "            for line in f_in:\n",
    "                walls.append(map(int,line.split(',')))\n",
    "            self.walls = np.array(walls)\n",
    "\n",
    "        # Perform validation on maze\n",
    "        # Maze dimensions\n",
    "        if self.dim % 2:\n",
    "            raise Exception('Maze dimensions must be even in length!')\n",
    "        if self.walls.shape != (self.dim, self.dim):\n",
    "            raise Exception('Maze shape does not match dimension attribute!')\n",
    "\n",
    "        # Wall permeability\n",
    "        wall_errors = []\n",
    "        # vertical walls\n",
    "        for x in range(self.dim-1):\n",
    "            for y in range(self.dim):\n",
    "                if (self.walls[x,y] & 2 != 0) != (self.walls[x+1,y] & 8 != 0):\n",
    "                    wall_errors.append([(x,y), 'v'])\n",
    "        # horizontal walls\n",
    "        for y in range(self.dim-1):\n",
    "            for x in range(self.dim):\n",
    "                if (self.walls[x,y] & 1 != 0) != (self.walls[x,y+1] & 4 != 0):\n",
    "                    wall_errors.append([(x,y), 'h'])\n",
    "\n",
    "        if wall_errors:\n",
    "            for cell, wall_type in wall_errors:\n",
    "                if wall_type == 'v':\n",
    "                    cell2 = (cell[0]+1, cell[1])\n",
    "                    print 'Inconsistent vertical wall betweeen {} and {}'.format(cell, cell2)\n",
    "                else:\n",
    "                    cell2 = (cell[0], cell[1]+1)\n",
    "                    print 'Inconsistent horizontal wall betweeen {} and {}'.format(cell, cell2)\n",
    "            raise Exception('Consistency errors found in wall specifications!')\n",
    "\n",
    "\n",
    "    def is_permissible(self, cell, direction):\n",
    "        \"\"\"\n",
    "        Returns a boolean designating whether or not a cell is passable in the\n",
    "        given direction. Cell is input as a list. Directions may be\n",
    "        input as single letter 'u', 'r', 'd', 'l', or complete words 'up', \n",
    "        'right', 'down', 'left'.\n",
    "        \"\"\"\n",
    "        dir_int = {'u': 1, 'r': 2, 'd': 4, 'l': 8,\n",
    "                   'up': 1, 'right': 2, 'down': 4, 'left': 8}\n",
    "        try:\n",
    "            return (self.walls[tuple(cell)] & dir_int[direction] != 0)\n",
    "        except:\n",
    "            print 'Invalid direction provided!'\n",
    "\n",
    "\n",
    "    def dist_to_wall(self, cell, direction):\n",
    "        \"\"\"\n",
    "        Returns a number designating the number of open cells to the nearest\n",
    "        wall in the indicated direction. Cell is input as a list. Directions\n",
    "        may be input as a single letter 'u', 'r', 'd', 'l', or complete words\n",
    "        'up', 'right', 'down', 'left'.\n",
    "        \"\"\"\n",
    "        dir_move = {'u': [0, 1], 'r': [1, 0], 'd': [0, -1], 'l': [-1, 0],\n",
    "                    'up': [0, 1], 'right': [1, 0], 'down': [0, -1], 'left': [-1, 0]}\n",
    "\n",
    "        sensing = True\n",
    "        distance = 0\n",
    "        curr_cell = list(cell) # make copy to preserve original\n",
    "        while sensing:\n",
    "            if self.is_permissible(curr_cell, direction):\n",
    "                distance += 1\n",
    "                curr_cell[0] += dir_move[direction][0]\n",
    "                curr_cell[1] += dir_move[direction][1]\n",
    "            else:\n",
    "                sensing = False\n",
    "        return distance"
   ]
  },
  {
   "cell_type": "code",
   "execution_count": 3,
   "metadata": {
    "collapsed": true
   },
   "outputs": [],
   "source": [
    "testmaze = Maze( 'test_maze_01.txt' )"
   ]
  },
  {
   "cell_type": "code",
   "execution_count": 4,
   "metadata": {
    "collapsed": false
   },
   "outputs": [],
   "source": [
    "goal=[(5,5),(5,6),(6,5),(6,6)]\n",
    "#goal=[(100,100)]"
   ]
  },
  {
   "cell_type": "code",
   "execution_count": 14,
   "metadata": {
    "collapsed": false
   },
   "outputs": [],
   "source": [
    "closed=[[0 for col in range(len(testmaze.walls[0]))] for row in range(len(testmaze.walls))]"
   ]
  },
  {
   "cell_type": "code",
   "execution_count": 15,
   "metadata": {
    "collapsed": false
   },
   "outputs": [
    {
     "data": {
      "text/plain": [
       "[[0, 0, 0, 0, 0, 0, 0, 0, 0, 0, 0, 0],\n",
       " [0, 0, 0, 0, 0, 0, 0, 0, 0, 0, 0, 0],\n",
       " [0, 0, 0, 0, 0, 0, 0, 0, 0, 0, 0, 0],\n",
       " [0, 0, 0, 0, 0, 0, 0, 0, 0, 0, 0, 0],\n",
       " [0, 0, 0, 0, 0, 0, 0, 0, 0, 0, 0, 0],\n",
       " [0, 0, 0, 0, 0, 0, 0, 0, 0, 0, 0, 0],\n",
       " [0, 0, 0, 0, 0, 0, 0, 0, 0, 0, 0, 0],\n",
       " [0, 0, 0, 0, 0, 0, 0, 0, 0, 0, 0, 0],\n",
       " [0, 0, 0, 0, 0, 0, 0, 0, 0, 0, 0, 0],\n",
       " [0, 0, 0, 0, 0, 0, 0, 0, 0, 0, 0, 0],\n",
       " [0, 0, 0, 0, 0, 0, 0, 0, 0, 0, 0, 0],\n",
       " [0, 0, 0, 0, 0, 0, 0, 0, 0, 0, 0, 0]]"
      ]
     },
     "execution_count": 15,
     "metadata": {},
     "output_type": "execute_result"
    }
   ],
   "source": [
    "closed"
   ]
  },
  {
   "cell_type": "code",
   "execution_count": 16,
   "metadata": {
    "collapsed": false
   },
   "outputs": [],
   "source": [
    "heuristic=[[-1 for col in range(len(testmaze.walls[0]))] for row in range(len(testmaze.walls))]"
   ]
  },
  {
   "cell_type": "code",
   "execution_count": 17,
   "metadata": {
    "collapsed": false
   },
   "outputs": [],
   "source": [
    "for i in range(4):\n",
    "    heuristic[goal[i][0]][goal[i][1]]=0\n",
    "    closed[goal[i][0]][goal[i][1]]=1"
   ]
  },
  {
   "cell_type": "code",
   "execution_count": 18,
   "metadata": {
    "collapsed": false
   },
   "outputs": [
    {
     "data": {
      "text/plain": [
       "12"
      ]
     },
     "execution_count": 18,
     "metadata": {},
     "output_type": "execute_result"
    }
   ],
   "source": [
    "testmaze.dim"
   ]
  },
  {
   "cell_type": "code",
   "execution_count": 21,
   "metadata": {
    "collapsed": false
   },
   "outputs": [],
   "source": [
    "for counter in range(50):\n",
    "    flag=False\n",
    "    for i in range(testmaze.dim):\n",
    "        for j in range(testmaze.dim):\n",
    "            if heuristic[i][j]==-1:\n",
    "                flag=True\n",
    "            if heuristic[i][j]==counter:\n",
    "                if (testmaze.is_permissible((i,j),'up')) and closed[i][j+1]==0:\n",
    "                    heuristic[i][j+1]=counter+1\n",
    "                    closed[i][j+1]=1\n",
    "                if testmaze.is_permissible((i,j),'down') and closed[i][j-1]==0:\n",
    "                    heuristic[i][j-1]=counter+1\n",
    "                    closed[i][j-1]=1\n",
    "                if testmaze.is_permissible((i,j),'left') and closed[i-1][j]==0:\n",
    "                    heuristic[i-1][j]=counter+1\n",
    "                    closed[i-1][j]=1\n",
    "                if testmaze.is_permissible((i,j),'right') and closed[i+1][j]==0:\n",
    "                    heuristic[i+1][j]=counter+1\n",
    "                    closed[i+1][j]=1"
   ]
  },
  {
   "cell_type": "code",
   "execution_count": 22,
   "metadata": {
    "collapsed": false
   },
   "outputs": [
    {
     "data": {
      "text/plain": [
       "[[30, 29, 28, 27, 26, 25, 24, 25, 24, 25, 24, 23],\n",
       " [25, 26, 27, 24, 23, 24, 23, 24, 23, 22, 21, 22],\n",
       " [24, 25, 28, 25, 22, 21, 22, 23, 18, 19, 20, 21],\n",
       " [23, 26, 27, 26, 19, 20, 21, 22, 17, 16, 15, 14],\n",
       " [22, 21, 20, 19, 18, 17, 16, 15, 14, 15, 14, 13],\n",
       " [19, 20, 19, 20, 19, 0, 0, 14, 13, 12, 13, 12],\n",
       " [18, 17, 18, 19, 20, 0, 0, 13, 12, 11, 12, 11],\n",
       " [15, 16, 17, 18, 5, 2, 1, 2, 11, 10, 9, 10],\n",
       " [14, 15, 6, 5, 4, 3, 4, 3, 4, 9, 8, 11],\n",
       " [13, 14, 15, 6, 5, 6, 5, 6, 5, 6, 7, 12],\n",
       " [12, 13, 14, 7, 10, 7, 8, 9, 6, 7, 8, 9],\n",
       " [11, 10, 9, 8, 9, 10, 11, 10, 7, 8, 9, 10]]"
      ]
     },
     "execution_count": 22,
     "metadata": {},
     "output_type": "execute_result"
    }
   ],
   "source": [
    "heuristic"
   ]
  },
  {
   "cell_type": "markdown",
   "metadata": {},
   "source": [
    "## Begin search"
   ]
  },
  {
   "cell_type": "code",
   "execution_count": 11,
   "metadata": {
    "collapsed": false
   },
   "outputs": [],
   "source": [
    "def search(grid,init,goal,cost):\n",
    "    \n",
    "    ### The following definitions are designed for tuples ###\n",
    "    def equal(a,b):\n",
    "        # check whether two tuples are equal: a, b are tuples\n",
    "        if a[0]==b[0] and a[1]==b[1]:\n",
    "            return True\n",
    "        else:\n",
    "            return False\n",
    "    def add(a,b):\n",
    "        # a, b, c are tuples\n",
    "        c=(a[0]+b[0],a[1]+b[1])\n",
    "        return c\n",
    "    def tupleInList(a,L):\n",
    "        # a is a tuple\n",
    "        # L is a list of tuples\n",
    "        r=False\n",
    "        for i in range(len(L)):\n",
    "            if equal(a,L[i]):\n",
    "                r=True\n",
    "        return r\n",
    "    def direction(delta):\n",
    "        # from delta tuple (x,y) to direction string, such as:\n",
    "        # 'up', 'down', 'right', 'left', etc.\n",
    "        d='left'\n",
    "        if delta==(0,-1):\n",
    "            d='down'\n",
    "        if delta==(1,0):\n",
    "            d='right'\n",
    "        if delta==(0,1):\n",
    "            d='up'\n",
    "        return d\n",
    "    def one_norm(a,b):\n",
    "        d=abs(a[0]-b[0])+abs(a[1]-b[1])\n",
    "        return d\n",
    "    \n",
    "    #########################################################\n",
    "    closed=[[0 for col in range(len(grid.walls[0]))] for row in range(len(grid.walls))]\n",
    "    closed[init[0][0]][init[0][1]]=1\n",
    "    expand=[[-1 for i in range(len(grid.walls[0]))] for j in range(len(grid.walls))] \n",
    "    # modify code **********\n",
    "    action=[[-1]*len(grid.walls[0]) for i in grid.walls]\n",
    "    heuristic=[[0 for col in range(len(grid.walls[0]))] for row in range(len(grid.walls))]\n",
    "    for i in range(grid.dim):\n",
    "        for j in range(grid.dim):\n",
    "            heuristic[i][j]=min(one_norm((i,j),(grid.dim/2-1,grid.dim/2-1)),\n",
    "                               one_norm((i,j),(grid.dim/2-1,grid.dim/2)),\n",
    "                               one_norm((i,j),(grid.dim/2,grid.dim/2-1)),\n",
    "                               one_norm((i,j),(grid.dim/2,grid.dim/2)))\n",
    "    \n",
    "    #no heuristic\n",
    "    # heuristic=[[0 for col in range(len(grid.walls[0]))] for row in range(len(grid.walls))]\n",
    "    \n",
    "    print(heuristic)\n",
    "    \n",
    "\n",
    "    \n",
    "    x=init[0][0]\n",
    "    y=init[0][1]\n",
    "    g=0 #g-value\n",
    "    h=heuristic[x][y]\n",
    "    f=g+h\n",
    "    open=[[f,g,h,x,y]]\n",
    "    \n",
    "    count=0 # modify code **********\n",
    "\n",
    "    #set two flag values\n",
    "    found=False # True: search is complete\n",
    "    resign=False # True: we caanot find expand\n",
    "    \n",
    "    \n",
    "    \n",
    "   \n",
    "        \n",
    "    while not found and not resign:\n",
    "        if len(open) == 0:\n",
    "            resign=True\n",
    "        else:\n",
    "            open.sort()\n",
    "            open.reverse()\n",
    "            next=open.pop()\n",
    "            \n",
    "            \n",
    "            x=next[3]\n",
    "            y=next[4]\n",
    "            g=next[1]\n",
    "\n",
    "            expand[x][y]=count # modify code **********\n",
    "            count=count+1 # modify code **********\n",
    "\n",
    "        if tupleInList((x,y),goal):\n",
    "            found==True\n",
    "            goal=[(x,y)] # I add this line *************\n",
    "\n",
    "        else:\n",
    "            for i in range(len(delta)):\n",
    "                x2=x+delta[i][0]\n",
    "                y2=y+delta[i][1]\n",
    "                direct=direction(delta[i])\n",
    "                if x2 >= 0 and x2 < len(grid.walls) and y2 >= 0 and y2 < len(grid.walls[0]):\n",
    "                    # The above if: should be in the inside of maze.\n",
    "                    if closed[x2][y2]==0 and grid.is_permissible((x,y),direct):\n",
    "                        # The above if: never navigate and can be reached.\n",
    "                        g2=g+cost\n",
    "                        h2=heuristic[x2][y2]\n",
    "                        f2=g2+h2\n",
    "                        open.append([f2,g2,h2,x2,y2])\n",
    "                        closed[x2][y2]=1\n",
    "                        action[x2][y2]=i\n",
    "    print(action)\n",
    "    policy=[[' ']*len(grid.walls[0]) for i in grid.walls]\n",
    "    x=goal[0][0]\n",
    "    y=goal[0][1]\n",
    "    policy[x][y]='*'\n",
    "    while x != init[0][0] or y != init[0][1]:\n",
    "        x2=x-delta[action[x][y]][0]\n",
    "        y2=y-delta[action[x][y]][1]\n",
    "        policy[x2][y2]=delta_name[action[x][y]]\n",
    "        x=x2\n",
    "        y=y2\n",
    "    \n",
    "\n",
    "    return policy\n"
   ]
  },
  {
   "cell_type": "code",
   "execution_count": 12,
   "metadata": {
    "collapsed": false
   },
   "outputs": [
    {
     "name": "stdout",
     "output_type": "stream",
     "text": [
      "[[10, 9, 8, 7, 6, 5, 5, 6, 7, 8, 9, 10], [9, 8, 7, 6, 5, 4, 4, 5, 6, 7, 8, 9], [8, 7, 6, 5, 4, 3, 3, 4, 5, 6, 7, 8], [7, 6, 5, 4, 3, 2, 2, 3, 4, 5, 6, 7], [6, 5, 4, 3, 2, 1, 1, 2, 3, 4, 5, 6], [5, 4, 3, 2, 1, 0, 0, 1, 2, 3, 4, 5], [5, 4, 3, 2, 1, 0, 0, 1, 2, 3, 4, 5], [6, 5, 4, 3, 2, 1, 1, 2, 3, 4, 5, 6], [7, 6, 5, 4, 3, 2, 2, 3, 4, 5, 6, 7], [8, 7, 6, 5, 4, 3, 3, 4, 5, 6, 7, 8], [9, 8, 7, 6, 5, 4, 4, 5, 6, 7, 8, 9], [10, 9, 8, 7, 6, 5, 5, 6, 7, 8, 9, 10]]\n",
      "[[-1, 1, 1, 1, 1, 1, 1, 1, 1, 1, 1, 1], [2, 2, 0, 3, 2, 2, 0, 1, 0, 1, 1, 1], [0, 3, 0, 3, 2, 2, 0, 1, 2, 2, 0, 1], [0, 2, 0, 1, 2, 0, 1, 0, 0, 1, 1, 1], [0, 1, 1, 2, 0, 1, 1, 1, 1, 1, 0, 0], [2, 2, 0, 1, 0, -1, -1, 0, 0, 1, 0, 0], [2, 2, 0, 0, 0, -1, 3, 0, 1, 0, 1, 1], [2, 0, 2, 0, 3, 3, 1, 3, 0, 0, 2, 0], [0, 1, 2, 3, 1, 1, 1, 2, 3, 0, 1, 0], [0, 1, 1, 3, 0, 2, 2, 2, 2, 2, 0, 0], [0, 1, 0, 3, 3, 0, 2, 3, 0, 0, 0, 1], [0, 1, 1, 1, 1, 1, 1, 1, 0, 1, 2, 0]]\n"
     ]
    }
   ],
   "source": [
    "policy=search(testmaze,init,goal,cost)"
   ]
  },
  {
   "cell_type": "code",
   "execution_count": 13,
   "metadata": {
    "collapsed": false
   },
   "outputs": [
    {
     "data": {
      "text/plain": [
       "[['^', '^', '>', ' ', ' ', ' ', ' ', ' ', ' ', ' ', ' ', ' '],\n",
       " ['>', 'V', 'V', ' ', ' ', ' ', ' ', ' ', ' ', ' ', ' ', ' '],\n",
       " ['>', ' ', ' ', ' ', ' ', ' ', ' ', ' ', ' ', ' ', ' ', ' '],\n",
       " ['>', ' ', ' ', ' ', ' ', ' ', ' ', ' ', ' ', ' ', ' ', ' '],\n",
       " ['^', '^', '>', ' ', ' ', ' ', ' ', ' ', ' ', ' ', ' ', ' '],\n",
       " [' ', ' ', '>', ' ', ' ', ' ', ' ', ' ', ' ', ' ', ' ', ' '],\n",
       " [' ', '>', 'V', ' ', ' ', ' ', '*', ' ', ' ', ' ', ' ', ' '],\n",
       " ['>', 'V', ' ', ' ', ' ', '^', '<', ' ', ' ', ' ', ' ', ' '],\n",
       " ['>', ' ', ' ', '^', '^', '<', ' ', ' ', ' ', ' ', ' ', ' '],\n",
       " ['>', ' ', ' ', '<', ' ', ' ', ' ', ' ', ' ', ' ', ' ', ' '],\n",
       " ['>', ' ', ' ', '<', ' ', ' ', ' ', ' ', ' ', ' ', ' ', ' '],\n",
       " ['^', '^', '^', '<', ' ', ' ', ' ', ' ', ' ', ' ', ' ', ' ']]"
      ]
     },
     "execution_count": 13,
     "metadata": {},
     "output_type": "execute_result"
    }
   ],
   "source": [
    "policy"
   ]
  },
  {
   "cell_type": "code",
   "execution_count": 14,
   "metadata": {
    "collapsed": false
   },
   "outputs": [
    {
     "name": "stdout",
     "output_type": "stream",
     "text": [
      "['^', '^', '>', ' ', ' ', ' ', ' ', ' ', ' ', ' ', ' ', ' ']\n",
      "['>', 'V', 'V', ' ', ' ', ' ', ' ', ' ', ' ', ' ', ' ', ' ']\n",
      "['>', ' ', ' ', ' ', ' ', ' ', ' ', ' ', ' ', ' ', ' ', ' ']\n",
      "['>', ' ', ' ', ' ', ' ', ' ', ' ', ' ', ' ', ' ', ' ', ' ']\n",
      "['^', '^', '>', ' ', ' ', ' ', ' ', ' ', ' ', ' ', ' ', ' ']\n",
      "[' ', ' ', '>', ' ', ' ', ' ', ' ', ' ', ' ', ' ', ' ', ' ']\n",
      "[' ', '>', 'V', ' ', ' ', ' ', '*', ' ', ' ', ' ', ' ', ' ']\n",
      "['>', 'V', ' ', ' ', ' ', '^', '<', ' ', ' ', ' ', ' ', ' ']\n",
      "['>', ' ', ' ', '^', '^', '<', ' ', ' ', ' ', ' ', ' ', ' ']\n",
      "['>', ' ', ' ', '<', ' ', ' ', ' ', ' ', ' ', ' ', ' ', ' ']\n",
      "['>', ' ', ' ', '<', ' ', ' ', ' ', ' ', ' ', ' ', ' ', ' ']\n",
      "['^', '^', '^', '<', ' ', ' ', ' ', ' ', ' ', ' ', ' ', ' ']\n"
     ]
    }
   ],
   "source": [
    "for row in policy:\n",
    "    print row"
   ]
  },
  {
   "cell_type": "code",
   "execution_count": null,
   "metadata": {
    "collapsed": true
   },
   "outputs": [],
   "source": []
  },
  {
   "cell_type": "code",
   "execution_count": null,
   "metadata": {
    "collapsed": true
   },
   "outputs": [],
   "source": []
  }
 ],
 "metadata": {
  "anaconda-cloud": {},
  "kernelspec": {
   "display_name": "Python [conda env:CarND-TensorFlow-Lab]",
   "language": "python",
   "name": "conda-env-CarND-TensorFlow-Lab-py"
  },
  "language_info": {
   "codemirror_mode": {
    "name": "ipython",
    "version": 3
   },
   "file_extension": ".py",
   "mimetype": "text/x-python",
   "name": "python",
   "nbconvert_exporter": "python",
   "pygments_lexer": "ipython3",
   "version": "3.5.2"
  }
 },
 "nbformat": 4,
 "nbformat_minor": 1
}
